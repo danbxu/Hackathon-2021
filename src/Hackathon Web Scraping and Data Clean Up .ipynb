{
 "cells": [
  {
   "cell_type": "code",
   "execution_count": 1,
   "metadata": {},
   "outputs": [],
   "source": [
    "import numpy as np\n",
    "import pandas as pd\n",
    "from bs4 import BeautifulSoup\n",
    "import requests\n",
    "from bs4 import SoupStrainer\n",
    "import matplotlib.pyplot as plt\n",
    "%matplotlib inline"
   ]
  },
  {
   "cell_type": "code",
   "execution_count": 2,
   "metadata": {},
   "outputs": [
    {
     "data": {
      "text/plain": [
       "<Response [200]>"
      ]
     },
     "execution_count": 2,
     "metadata": {},
     "output_type": "execute_result"
    }
   ],
   "source": [
    "r_cis = requests.get(\"https://www.registrar.upenn.edu/timetable/cis.html\")\n",
    "r_cis"
   ]
  },
  {
   "cell_type": "code",
   "execution_count": 3,
   "metadata": {},
   "outputs": [
    {
     "data": {
      "text/plain": [
       "<Response [200]>"
      ]
     },
     "execution_count": 3,
     "metadata": {},
     "output_type": "execute_result"
    }
   ],
   "source": [
    "r_cit = requests.get(\"https://www.registrar.upenn.edu/timetable/cit.html\")\n",
    "r_cit"
   ]
  },
  {
   "cell_type": "code",
   "execution_count": 4,
   "metadata": {},
   "outputs": [],
   "source": [
    "cit_soup = BeautifulSoup(r_cit.text, 'html.parser')\n",
    "cis_soup = BeautifulSoup(r_cis.text, 'html.parser')"
   ]
  },
  {
   "cell_type": "code",
   "execution_count": 5,
   "metadata": {},
   "outputs": [
    {
     "data": {
      "text/plain": [
       "<html>\n",
       "<head>\n",
       "<title>COMPUTER AND INFORMATION TECHNOLOGY</title>\n",
       "</head>\n",
       "<body bgcolor=\"#FFFFFF\" link=\"#880000\" text=\"#000055\" vlink=\"#000080\">\n",
       "<h2><center>COMPUTER AND INFORMATION TECHNOLOGY</center></h2>\n",
       "<center>Spring 2021 Course Timetable</center>\n",
       "<p><img src=\"http://www.upenn.edu/registrar/cy_bar.gif\"/><p>\n",
       "<hr/><p><pre>\n",
       "<p><b> COMPUTER AND INFORMATION TECHNOLOGY</b>\n",
       "<p>CIT -520  INTRODUCTION TO ROBOTICS          1 CU\n",
       " 501 ONL TBA                             KUMAR R\n",
       "     ONLY OPEN TO MCIT ONLINE STUDENTS\n",
       "     LOCATION: ONLINE\n",
       "     MAX: 100               \n",
       " \n",
       "CIT -582  BLOCKCHAINS AND CRYPTO            1 CU\n",
       " 501 ONL TBA                          FALK/AMIRI\n",
       "     ONLY OPEN TO MCIT ONLINE STUDENTS\n",
       "     PERMISSION NEEDED FROM INSTRUCTOR\n",
       "     LOCATION: ONLINE\n",
       "     MAX: 45                \n",
       " \n",
       "CIT -590  PROG LANG AND TECHNIQUES          1 CU\n",
       "     REGISTRATION REQUIRED FOR LEC, REC\n",
       " 001 LEC TBA                         KRAKOWSKY B\n",
       "     COURSE ONLINE: ASYNCHRONOUS FORMAT\n",
       "     LOCATION: ONLINE\n",
       "     MAX: 110               \n",
       "          RECITATION                        0 CU\n",
       " 201 REC TBA                         KRAKOWSKY B\n",
       "     COURSE ONLINE: ASYNCHRONOUS FORMAT\n",
       "     LOCATION: ONLINE\n",
       "     MAX: 40                \n",
       " 202 REC TBA                         KRAKOWSKY B\n",
       "     COURSE ONLINE: ASYNCHRONOUS FORMAT\n",
       "     LOCATION: ONLINE\n",
       "     MAX: 40                \n",
       " 203 REC TBA                         KRAKOWSKY B\n",
       "     COURSE ONLINE: ASYNCHRONOUS FORMAT\n",
       "     LOCATION: ONLINE\n",
       "     MAX: 40                \n",
       " \n",
       "CIT -591  INTRO TO SOFTWRE DEVELOP          1 CU\n",
       " 501 ONL TBA                         KRAKOWSKY B\n",
       "     ONLY OPEN TO MCIT ONLINE STUDENTS\n",
       "     LOCATION: ONLINE\n",
       "     MAX: 500               \n",
       " \n",
       "CIT -592  MATH FNDS OF COMP SCI             1 CU\n",
       " 501 ONL TBA                            TANNEN V\n",
       "     ONLY OPEN TO MCIT ONLINE STUDENTS\n",
       "     LOCATION: ONLINE\n",
       "     MAX: 500               \n",
       " \n",
       "CIT -593  INTR TO COMPUTER SYSTEMS          1 CU\n",
       " 501 ONL TBA                            FARMER T\n",
       "     ONLY OPEN TO MCIT ONLINE STUDENTS\n",
       "     LOCATION: ONLINE\n",
       "     MAX: 500               \n",
       " \n",
       "CIT -594  DATA STRUC &amp; SOFTW DESGN          1 CU\n",
       "     REGISTRATION REQUIRED FOR LEC, REC\n",
       " 001 LEC TBA                       FOUH MBINDI E\n",
       "     COURSE ONLINE: ASYNCHRONOUS FORMAT\n",
       "     LOCATION: ONLINE\n",
       "     MAX: 72                \n",
       "          RECITATION                        0 CU\n",
       " 201 REC TBA                       FOUH MBINDI E\n",
       "     COURSE ONLINE: ASYNCHRONOUS FORMAT\n",
       "     LOCATION: ONLINE\n",
       "     MAX: 36                \n",
       " 202 REC TBA                       FOUH MBINDI E\n",
       "     COURSE ONLINE: ASYNCHRONOUS FORMAT\n",
       "     LOCATION: ONLINE\n",
       "     MAX: 36                \n",
       "          DATA STRUC &amp; SOFTW DESGN          1 CU\n",
       " 501 ONL TBA                             RUBIN R\n",
       "     ONLY OPEN TO MCIT ONLINE STUDENTS\n",
       "     LOCATION: ONLINE\n",
       "     MAX: 500               \n",
       " \n",
       "CIT -595  COMPUTER SYS PROGRAMMING          1 CU\n",
       "     REGISTRATION REQUIRED FOR LEC, REC\n",
       " 001 LEC MW 10:30-12NOON                   LEE I\n",
       "     CRSE ONLINE: SYNC &amp; ASYNC COMPONENTS\n",
       "     LOCATION: ONLINE\n",
       "     MAX: 72                \n",
       "          RECITATION                        0 CU\n",
       " 201 REC R 5-6PM                           LEE I\n",
       "     CRSE ONLINE: SYNC &amp; ASYNC COMPONENTS\n",
       "     LOCATION: ONLINE\n",
       "     MAX: 72                \n",
       "          COMPUTER SYS PROGRAMMING          1 CU\n",
       " 501 ONL TBA                               LOO B\n",
       "     ONLY OPEN TO MCIT ONLINE STUDENTS\n",
       "     LOCATION: ONLINE\n",
       "     MAX: 500               \n",
       " \n",
       "CIT -596  ALGORITHMS &amp; COMPUTATION          1 CU\n",
       "     REGISTRATION REQUIRED FOR LEC, REC\n",
       " 001 LEC TBA                       BHUSNURMATH A\n",
       "     COURSE ONLINE: ASYNCHRONOUS FORMAT\n",
       "     LOCATION: ONLINE\n",
       "     MAX: 120               \n",
       "          RECITATION                        0 CU\n",
       " 201 REC TBA                       BHUSNURMATH A\n",
       "     COURSE ONLINE: ASYNCHRONOUS FORMAT\n",
       "     LOCATION: ONLINE\n",
       "     MAX: 43                \n",
       " 202 REC TBA                       BHUSNURMATH A\n",
       "     COURSE ONLINE: ASYNCHRONOUS FORMAT\n",
       "     LOCATION: ONLINE\n",
       "     MAX: 42                \n",
       " 203 REC TBA                       BHUSNURMATH A\n",
       "     COURSE ONLINE: ASYNCHRONOUS FORMAT\n",
       "     LOCATION: ONLINE\n",
       "     MAX: 35                \n",
       "          ALGORITHMS &amp; COMPUTATION          1 CU\n",
       " 501 ONL TBA                            KANNAN S\n",
       "     ONLY OPEN TO MCIT ONLINE STUDENTS\n",
       "     LOCATION: ONLINE\n",
       "     MAX: 500               \n",
       " \n",
       " \n",
       " \n",
       "</p></p></pre>\n",
       "<p><hr/><p>\n",
       "Return to <a href=\"/timetable/\">\n",
       "Course Timetable</a>\n",
       "<p><hr/><p>\n",
       "Comments to:<br/>\n",
       "Office of the University Registrar<br/>\n",
       "University of Pennsylvania<br/>\n",
       "Room 150 Franklin Building<br/>\n",
       "3451 Walnut Street<br/>\n",
       "Philadelphia, PA 19104-6291<br/>\n",
       "Phone: (215) 898-6636        Fax: (215) 573-2076<br/>\n",
       "<a href=\"mailto:registra@pobox.upenn.edu\">registra@pobox.upenn.edu</a>\n",
       "<p>\n",
       "<i>Updated: Fri Jan  1 08:30:02 2021</i>\n",
       "</p></p></p></p></p></p></p></p></body>\n",
       "</html>"
      ]
     },
     "execution_count": 5,
     "metadata": {},
     "output_type": "execute_result"
    }
   ],
   "source": [
    "cit_soup"
   ]
  },
  {
   "cell_type": "code",
   "execution_count": 6,
   "metadata": {},
   "outputs": [],
   "source": [
    "cit_courses = cit_soup.select(\"pre\")[0].get_text()\n",
    "cis_courses = cis_soup.select(\"pre\")[0].get_text()"
   ]
  },
  {
   "cell_type": "code",
   "execution_count": 7,
   "metadata": {},
   "outputs": [],
   "source": [
    "cit_classes = []"
   ]
  },
  {
   "cell_type": "code",
   "execution_count": 8,
   "metadata": {},
   "outputs": [],
   "source": [
    "cit_classes.append(cit_courses.split(\"\\n\")[15] + cit_courses.split(\"\\n\")[17])\n",
    "cit_classes.append(cit_courses.split(\"\\n\")[53] + cit_courses.split(\"\\n\")[55])\n",
    "cit_classes.append(cit_courses.split(\"\\n\")[74] + cit_courses.split(\"\\n\")[76])\n",
    "cit_classes.append(cit_courses.split(\"\\n\")[91] + cit_courses.split(\"\\n\")[93])"
   ]
  },
  {
   "cell_type": "code",
   "execution_count": 9,
   "metadata": {},
   "outputs": [
    {
     "data": {
      "text/plain": [
       "['CIT -590  PROG LANG AND TECHNIQUES          1 CU 001 LEC TBA                         KRAKOWSKY B',\n",
       " 'CIT -594  DATA STRUC & SOFTW DESGN          1 CU 001 LEC TBA                       FOUH MBINDI E',\n",
       " 'CIT -595  COMPUTER SYS PROGRAMMING          1 CU 001 LEC MW 10:30-12NOON                   LEE I',\n",
       " 'CIT -596  ALGORITHMS & COMPUTATION          1 CU 001 LEC TBA                       BHUSNURMATH A']"
      ]
     },
     "execution_count": 9,
     "metadata": {},
     "output_type": "execute_result"
    }
   ],
   "source": [
    "cit_classes"
   ]
  },
  {
   "cell_type": "code",
   "execution_count": 10,
   "metadata": {},
   "outputs": [],
   "source": [
    "cit_classes.append(cis_courses.split(\"\\n\")[528] + cis_courses.split(\"\\n\")[529])"
   ]
  },
  {
   "cell_type": "code",
   "execution_count": 11,
   "metadata": {},
   "outputs": [],
   "source": [
    "cit_classes.append(cis_courses.split(\"\\n\")[540] + cis_courses.split(\"\\n\")[541])"
   ]
  },
  {
   "cell_type": "code",
   "execution_count": 12,
   "metadata": {},
   "outputs": [],
   "source": [
    "cit_classes.append(cis_courses.split(\"\\n\")[548] + cis_courses.split(\"\\n\")[549])"
   ]
  },
  {
   "cell_type": "code",
   "execution_count": 13,
   "metadata": {},
   "outputs": [],
   "source": [
    "cit_classes.append(cis_courses.split(\"\\n\")[554] + cis_courses.split(\"\\n\")[555])"
   ]
  },
  {
   "cell_type": "code",
   "execution_count": 14,
   "metadata": {},
   "outputs": [],
   "source": [
    "cit_classes.append(cis_courses.split(\"\\n\")[561] + cis_courses.split(\"\\n\")[562])"
   ]
  },
  {
   "cell_type": "code",
   "execution_count": 15,
   "metadata": {},
   "outputs": [],
   "source": [
    "cit_classes.append(cis_courses.split(\"\\n\")[568] + cis_courses.split(\"\\n\")[569])"
   ]
  },
  {
   "cell_type": "code",
   "execution_count": 16,
   "metadata": {},
   "outputs": [],
   "source": [
    "cit_classes.append(cis_courses.split(\"\\n\")[574] + cis_courses.split(\"\\n\")[576])"
   ]
  },
  {
   "cell_type": "code",
   "execution_count": 17,
   "metadata": {},
   "outputs": [],
   "source": [
    "cit_classes.append(cis_courses.split(\"\\n\")[586] + cis_courses.split(\"\\n\")[587])"
   ]
  },
  {
   "cell_type": "code",
   "execution_count": 18,
   "metadata": {},
   "outputs": [],
   "source": [
    "cit_classes.append(cis_courses.split(\"\\n\")[592] + cis_courses.split(\"\\n\")[594])"
   ]
  },
  {
   "cell_type": "code",
   "execution_count": 19,
   "metadata": {},
   "outputs": [],
   "source": [
    "cit_classes.append(cis_courses.split(\"\\n\")[627] + cis_courses.split(\"\\n\")[628])"
   ]
  },
  {
   "cell_type": "code",
   "execution_count": 20,
   "metadata": {},
   "outputs": [],
   "source": [
    "cit_classes.append(cis_courses.split(\"\\n\")[633] + cis_courses.split(\"\\n\")[634])"
   ]
  },
  {
   "cell_type": "code",
   "execution_count": 21,
   "metadata": {},
   "outputs": [],
   "source": [
    "cit_classes.append(cis_courses.split(\"\\n\")[641] + cis_courses.split(\"\\n\")[642])"
   ]
  },
  {
   "cell_type": "code",
   "execution_count": 22,
   "metadata": {},
   "outputs": [],
   "source": [
    "cit_classes.append(cis_courses.split(\"\\n\")[647] + cis_courses.split(\"\\n\")[649])"
   ]
  },
  {
   "cell_type": "code",
   "execution_count": 23,
   "metadata": {},
   "outputs": [],
   "source": [
    "cit_classes.append(cis_courses.split(\"\\n\")[663] + cis_courses.split(\"\\n\")[665])"
   ]
  },
  {
   "cell_type": "code",
   "execution_count": 24,
   "metadata": {},
   "outputs": [],
   "source": [
    "cit_classes.append(cis_courses.split(\"\\n\")[679] + cis_courses.split(\"\\n\")[680])"
   ]
  },
  {
   "cell_type": "code",
   "execution_count": 25,
   "metadata": {},
   "outputs": [],
   "source": [
    "cit_classes.append(cis_courses.split(\"\\n\")[687] + cis_courses.split(\"\\n\")[688])"
   ]
  },
  {
   "cell_type": "code",
   "execution_count": 26,
   "metadata": {},
   "outputs": [],
   "source": [
    "cit_classes.append(cis_courses.split(\"\\n\")[693] + cis_courses.split(\"\\n\")[694])"
   ]
  },
  {
   "cell_type": "code",
   "execution_count": 27,
   "metadata": {},
   "outputs": [],
   "source": [
    "cit_classes.append(cis_courses.split(\"\\n\")[701] + cis_courses.split(\"\\n\")[702])"
   ]
  },
  {
   "cell_type": "code",
   "execution_count": 28,
   "metadata": {},
   "outputs": [],
   "source": [
    "cit_classes.append(cis_courses.split(\"\\n\")[713] + cis_courses.split(\"\\n\")[714])"
   ]
  },
  {
   "cell_type": "code",
   "execution_count": 29,
   "metadata": {},
   "outputs": [],
   "source": [
    "cit_classes.append(cis_courses.split(\"\\n\")[718] + cis_courses.split(\"\\n\")[719])"
   ]
  },
  {
   "cell_type": "code",
   "execution_count": 47,
   "metadata": {
    "scrolled": true
   },
   "outputs": [],
   "source": [
    "str_cit_classes= str(cit_classes)"
   ]
  },
  {
   "cell_type": "code",
   "execution_count": 48,
   "metadata": {},
   "outputs": [
    {
     "data": {
      "text/plain": [
       "str"
      ]
     },
     "execution_count": 48,
     "metadata": {},
     "output_type": "execute_result"
    }
   ],
   "source": [
    "type(str_cit_classes)"
   ]
  },
  {
   "cell_type": "code",
   "execution_count": 49,
   "metadata": {},
   "outputs": [],
   "source": [
    "f = open(\"cit_class.txt\", \"w\")"
   ]
  },
  {
   "cell_type": "code",
   "execution_count": 50,
   "metadata": {},
   "outputs": [],
   "source": [
    "f.write(str_cit_classes)\n",
    "f.close()"
   ]
  },
  {
   "cell_type": "code",
   "execution_count": 51,
   "metadata": {},
   "outputs": [],
   "source": [
    "f = open(\"cit_class.txt\", \"r\")"
   ]
  },
  {
   "cell_type": "code",
   "execution_count": 52,
   "metadata": {},
   "outputs": [
    {
     "name": "stdout",
     "output_type": "stream",
     "text": [
      "['CIT -590  PROG LANG AND TECHNIQUES          1 CU 001 LEC TBA                         KRAKOWSKY B', 'CIT -594  DATA STRUC & SOFTW DESGN          1 CU 001 LEC TBA                       FOUH MBINDI E', 'CIT -595  COMPUTER SYS PROGRAMMING          1 CU 001 LEC MW 10:30-12NOON                   LEE I', 'CIT -596  ALGORITHMS & COMPUTATION          1 CU 001 LEC TBA                       BHUSNURMATH A', 'CIS -511  THEORY OF COMPUTATION             1 CU 001 LEC TBA                           GALLIER J', 'CIS -519  APPLIED MACHINE LEARNING          1 CU 401 LEC TBA                         JAYARAMAN D', 'CIS -520  MACHINE LEARNING                  1 CU 001 LEC TR 1:30-3PM                   AGARWAL S', 'CIS -522  DEEP LEARNING/DATA SCI            1 CU 001 LEC TBA                       KORDING/UNGAR', 'CIS -530  COMPUTATIONAL LINGUISTCS          1 CU 001 LEC TBA                           YATSKAR M', 'CIS -535  INTRO TO BIOINFORMATICS           1 CU 401 LEC MWF 10-11AM                    VOIGHT B', 'CIS -545  BIG DATA ANALYTICS                1 CU 001 LEC TBA                     DAVIDSON/GARDNE', 'CIS -548  OS DESIGN AND IMPLEMENT           1 CU 001 LEC TBA                               LOO B', 'CIS -550  DATABASE & INFO SYSTEMS           1 CU 401 LEC MW 10:30-12NOON                  NAIK M', 'CIS -553  NETWORKED SYSTEMS                 1 CU 001 LEC MW 4:30-6PM                       LIU V', 'CIS -555  INTERNET & WEB SYSTEMS            1 CU 401 LEC TBA                              IVES Z', 'CIS -557  PROGRAMMING FOR THE WEB           1 CU 001 LEC TBA                       FOUH MBINDI E', 'CIS -559  PROGRAMMING & PROB SOLV           1 CU 001 LEC MW 3-4:30PM                     SHETH S', 'CIS -560  INTERACTVE COMP GRAPHICS          1 CU 401 LEC TBA                             MALLY A', 'CIS -561  ADVANCED RENDERING                1 CU 401 LEC MW 1:30-3PM                BADLER/MALLY', 'CIS -568  GAME DESIGN PRACTICUM             1 CU 001 LEC MW 3-4:30PM                      LANE S', 'CIS -571  COMP ORG AND DESIGN               1 CU 401 LEC TBA                          DEVIETTI J', 'CIS -580  MACHINE PERCEPTION                1 CU 001 LEC MW 12-1:30PM               DANIILIDIS K', \"CIS -597  MASTER'S THESIS RESEARCH     1 TO 2 CU 000 MST TBA                               STAFF\", \"CIS -599  MASTER'S INDEP STUDY         1 TO 4 CU 000 IND TBA                               STAFF\"]\n"
     ]
    }
   ],
   "source": [
    "print(f.read())"
   ]
  }
 ],
 "metadata": {
  "kernelspec": {
   "display_name": "Python 3",
   "language": "python",
   "name": "python3"
  },
  "language_info": {
   "codemirror_mode": {
    "name": "ipython",
    "version": 3
   },
   "file_extension": ".py",
   "mimetype": "text/x-python",
   "name": "python",
   "nbconvert_exporter": "python",
   "pygments_lexer": "ipython3",
   "version": "3.8.3"
  }
 },
 "nbformat": 4,
 "nbformat_minor": 4
}
